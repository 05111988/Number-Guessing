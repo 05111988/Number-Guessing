{
 "cells": [
  {
   "cell_type": "code",
   "execution_count": 2,
   "id": "a7b20b3e-6371-41f3-a712-dec933c57ad9",
   "metadata": {},
   "outputs": [
    {
     "name": "stdout",
     "output_type": "stream",
     "text": [
      "enemies inside function: 2\n",
      "enemies outside function: 1\n"
     ]
    }
   ],
   "source": [
    "# Local space\n",
    "enemies = 1\n",
    "def increase_enemies():\n",
    "    enemies = 2\n",
    "    print(f\"enemies inside function: {enemies}\")\n",
    "increase_enemies()\n",
    "print(f\"enemies outside function: {enemies}\")"
   ]
  },
  {
   "cell_type": "code",
   "execution_count": 4,
   "id": "01a1bf62-cea1-4203-a7dd-dff99e6db11f",
   "metadata": {},
   "outputs": [
    {
     "name": "stdout",
     "output_type": "stream",
     "text": [
      "10\n",
      "10\n"
     ]
    }
   ],
   "source": [
    "#Global space\n",
    "player_health = 10\n",
    "def drink_portion():\n",
    "    potion_strength = 2\n",
    "    print(player_health)\n",
    "drink_portion()\n",
    "print(player_health)"
   ]
  },
  {
   "cell_type": "code",
   "execution_count": 5,
   "id": "45befd09-59c1-40e8-8341-182f6ba32c0b",
   "metadata": {},
   "outputs": [
    {
     "name": "stdout",
     "output_type": "stream",
     "text": [
      "enemies inside function: 3\n",
      "enemies outside function: 3\n"
     ]
    }
   ],
   "source": [
    "#Modifying Global Scope\n",
    "enemies = 1\n",
    "def increase_enemies():\n",
    "    global enemies \n",
    "    enemies += 2\n",
    "    print(f\"enemies inside function: {enemies}\")\n",
    "increase_enemies()\n",
    "print(f\"enemies outside function: {enemies}\")"
   ]
  },
  {
   "cell_type": "code",
   "execution_count": 6,
   "id": "b925fdc0-b6ce-4e12-adc0-1c1b860e5a0b",
   "metadata": {},
   "outputs": [
    {
     "name": "stdout",
     "output_type": "stream",
     "text": [
      "enemies inside function: 1\n",
      "enemies outside function: 2\n"
     ]
    }
   ],
   "source": [
    "enemies = 1\n",
    "def increase_enemies(enemy):\n",
    "    print(f\"enemies inside function: {enemies}\")\n",
    "    return enemy + 1\n",
    "enemies = increase_enemies(enemies)\n",
    "print(f\"enemies outside function: {enemies}\")"
   ]
  },
  {
   "cell_type": "code",
   "execution_count": 9,
   "id": "617c045e-a837-4db7-a82c-190717b7afad",
   "metadata": {},
   "outputs": [
    {
     "name": "stdout",
     "output_type": "stream",
     "text": [
      "\n",
      "\n",
      " ▗▄▄▖▗▖ ▗▖▗▄▄▄▖ ▗▄▄▖ ▗▄▄▖    ▗▄▄▄▖▗▖ ▗▖▗▄▄▄▖    ▗▖  ▗▖▗▖ ▗▖▗▖  ▗▖▗▄▄▖ ▗▄▄▄▖▗▄▄▖ \n",
      "▐▌   ▐▌ ▐▌▐▌   ▐▌   ▐▌         █  ▐▌ ▐▌▐▌       ▐▛▚▖▐▌▐▌ ▐▌▐▛▚▞▜▌▐▌ ▐▌▐▌   ▐▌ ▐▌\n",
      "▐▌▝▜▌▐▌ ▐▌▐▛▀▀▘ ▝▀▚▖ ▝▀▚▖      █  ▐▛▀▜▌▐▛▀▀▘    ▐▌ ▝▜▌▐▌ ▐▌▐▌  ▐▌▐▛▀▚▖▐▛▀▀▘▐▛▀▚▖\n",
      "▝▚▄▞▘▝▚▄▞▘▐▙▄▄▖▗▄▄▞▘▗▄▄▞▘      █  ▐▌ ▐▌▐▙▄▄▖    ▐▌  ▐▌▝▚▄▞▘▐▌  ▐▌▐▙▄▞▘▐▙▄▄▖▐▌ ▐▌\n",
      "\n",
      "\n",
      "\n",
      "\n",
      "The history saving thread hit an unexpected error (OperationalError('attempt to write a readonly database')).History will not be written to the database.\n"
     ]
    }
   ],
   "source": [
    "logo = \"\"\"\n",
    "\n",
    " ▗▄▄▖▗▖ ▗▖▗▄▄▄▖ ▗▄▄▖ ▗▄▄▖    ▗▄▄▄▖▗▖ ▗▖▗▄▄▄▖    ▗▖  ▗▖▗▖ ▗▖▗▖  ▗▖▗▄▄▖ ▗▄▄▄▖▗▄▄▖ \n",
    "▐▌   ▐▌ ▐▌▐▌   ▐▌   ▐▌         █  ▐▌ ▐▌▐▌       ▐▛▚▖▐▌▐▌ ▐▌▐▛▚▞▜▌▐▌ ▐▌▐▌   ▐▌ ▐▌\n",
    "▐▌▝▜▌▐▌ ▐▌▐▛▀▀▘ ▝▀▚▖ ▝▀▚▖      █  ▐▛▀▜▌▐▛▀▀▘    ▐▌ ▝▜▌▐▌ ▐▌▐▌  ▐▌▐▛▀▚▖▐▛▀▀▘▐▛▀▚▖\n",
    "▝▚▄▞▘▝▚▄▞▘▐▙▄▄▖▗▄▄▞▘▗▄▄▞▘      █  ▐▌ ▐▌▐▙▄▄▖    ▐▌  ▐▌▝▚▄▞▘▐▌  ▐▌▐▙▄▞▘▐▙▄▄▖▐▌ ▐▌\n",
    "                                                                                \n",
    "                                                                                \n",
    "                                                                                \n",
    "\"\"\"\n",
    "print(logo)"
   ]
  },
  {
   "cell_type": "code",
   "execution_count": 28,
   "id": "7843e798-05ee-4baa-8229-4436c3fd3b1b",
   "metadata": {},
   "outputs": [
    {
     "name": "stdout",
     "output_type": "stream",
     "text": [
      "Welcome to the Number Guessing Game!\n",
      "I'm thinking of a number between 1 and 100.\n",
      "Pssst, the correct answer is 45\n"
     ]
    },
    {
     "name": "stdin",
     "output_type": "stream",
     "text": [
      "Choose a difficulty. Type 'easy' or 'hard': hard\n"
     ]
    },
    {
     "name": "stdout",
     "output_type": "stream",
     "text": [
      "You have 5 attempts remaining to guess the number.\n"
     ]
    },
    {
     "name": "stdin",
     "output_type": "stream",
     "text": [
      "Make a guess:  2\n"
     ]
    },
    {
     "name": "stdout",
     "output_type": "stream",
     "text": [
      "Too Low.\n",
      "Guess again.\n",
      "You have 4 attempts remaining to guess the number.\n"
     ]
    },
    {
     "name": "stdin",
     "output_type": "stream",
     "text": [
      "Make a guess:  5\n"
     ]
    },
    {
     "name": "stdout",
     "output_type": "stream",
     "text": [
      "Too Low.\n",
      "Guess again.\n",
      "You have 3 attempts remaining to guess the number.\n"
     ]
    },
    {
     "name": "stdin",
     "output_type": "stream",
     "text": [
      "Make a guess:  45\n"
     ]
    },
    {
     "name": "stdout",
     "output_type": "stream",
     "text": [
      "You got it! The answer is 45\n"
     ]
    }
   ],
   "source": [
    "# print(logo)\n",
    "from random import randint\n",
    "\n",
    "\n",
    "EASY_LEVEL_TURNS = 10\n",
    "HARD_LEVEL_TURNS = 5\n",
    "\n",
    "\n",
    "turns = 0\n",
    "def check_answer(user_guess, actual_answer,turns):\n",
    "    if user_guess > actual_answer:\n",
    "        print(\"Too High.\")\n",
    "        return turns - 1\n",
    "    elif user_guess < actual_answer:\n",
    "        print(\"Too Low.\")\n",
    "        return turns - 1\n",
    "    else:\n",
    "        print(f\"You got it! The answer is {actual_answer}\")\n",
    "\n",
    "def set_difficulty():\n",
    "    level = input(\"Choose a difficulty. Type 'easy' or 'hard':\")\n",
    "    if level == 'easy':\n",
    "        return EASY_LEVEL_TURNS\n",
    "    else:\n",
    "        return HARD_LEVEL_TURNS\n",
    "\n",
    "def game():        \n",
    "    print(\"Welcome to the Number Guessing Game!\")\n",
    "    print(\"I'm thinking of a number between 1 and 100.\")\n",
    "    answer = randint(1,100)\n",
    "    print(f\"Pssst, the correct answer is {answer}\")\n",
    "    \n",
    "    \n",
    "    turns = set_difficulty()\n",
    "   \n",
    "    guess = 0\n",
    "    while guess != answer:\n",
    "        print(f\"You have {turns} attempts remaining to guess the number.\")\n",
    "        guess = int(input(\"Make a guess: \"))\n",
    "        turns = check_answer(guess,answer,turns)\n",
    "        if turns == 0:\n",
    "            print(\"You've run of guesses, you lose.\")\n",
    "            return\n",
    "        elif guess != answer:\n",
    "            print(\"Guess again.\")\n",
    "\n",
    "            \n",
    "game()"
   ]
  },
  {
   "cell_type": "code",
   "execution_count": null,
   "id": "6138a4df-8e01-4e6e-9aa4-02fc645c6c71",
   "metadata": {},
   "outputs": [],
   "source": []
  }
 ],
 "metadata": {
  "kernelspec": {
   "display_name": "Python 3 (ipykernel)",
   "language": "python",
   "name": "python3"
  },
  "language_info": {
   "codemirror_mode": {
    "name": "ipython",
    "version": 3
   },
   "file_extension": ".py",
   "mimetype": "text/x-python",
   "name": "python",
   "nbconvert_exporter": "python",
   "pygments_lexer": "ipython3",
   "version": "3.13.3"
  }
 },
 "nbformat": 4,
 "nbformat_minor": 5
}
